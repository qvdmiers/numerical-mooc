{
 "cells": [
  {
   "cell_type": "markdown",
   "metadata": {
    "collapsed": true
   },
   "source": [
    "# Travail de mécanique quantique"
   ]
  },
  {
   "cell_type": "markdown",
   "metadata": {},
   "source": [
    "Dans ce travail, nous allons étudier les fluides incompressibles à l'aide de l'équation de Navier-Stokes et en considérant un nombre de Reynolds très faible.\n",
    "\n",
    "\\begin{equation}\n",
    "\\frac{\\partial u}{\\partial t} + u \\cdot \\nabla u = -\\frac{1}{\\rho}\\nabla p + \\nu\\nabla^2 u\n",
    "\\end{equation}\n",
    "\n",
    "Pour ce faire, nous allons employer la formulation de la vorticité et de la fonction de courant ($\\omega$ et $\\psi$) ainsi que la  méthode de Jacobi pour résoudre le problème dit du flux de Stokes. Le grand avantage du flux de Stokes est la disparition des termes non-linéraires permettant une résolution plus simple du problème."
   ]
  },
  {
   "cell_type": "code",
   "execution_count": 2,
   "metadata": {
    "collapsed": true
   },
   "outputs": [],
   "source": [
    "from matplotlib import pyplot\n",
    "import numpy\n",
    "%matplotlib inline\n",
    "from matplotlib import rcParams\n",
    "rcParams['font.family'] = 'serif'\n",
    "rcParams['font.size'] = 16"
   ]
  },
  {
   "cell_type": "code",
   "execution_count": 3,
   "metadata": {
    "collapsed": true
   },
   "outputs": [],
   "source": [
    "from mpl_toolkits.mplot3d import Axes3D\n",
    "from matplotlib import cm"
   ]
  },
  {
   "cell_type": "markdown",
   "metadata": {},
   "source": [
    "Nous introduisons ci-dessous les paramètres initiaux de notre cavité qui nous permettrons de résoudre le problème du flux de Stockes dans notre cavité."
   ]
  },
  {
   "cell_type": "code",
   "execution_count": 4,
   "metadata": {
    "collapsed": true
   },
   "outputs": [],
   "source": [
    "nx = 41\n",
    "ny = 41\n",
    "\n",
    "l = 1.\n",
    "h = 1.\n",
    "\n",
    "dx = l/(nx-1)\n",
    "dy = h/(ny-1)\n",
    "\n",
    "error_tolerance = 1e-6"
   ]
  },
  {
   "cell_type": "markdown",
   "metadata": {},
   "source": [
    "Nous définissions ici la fonction L1error permettant de mesurer la norme de la différence L1 entre les itérations qui seront\n",
    "réalisées par la suite."
   ]
  },
  {
   "cell_type": "code",
   "execution_count": 5,
   "metadata": {
    "collapsed": true
   },
   "outputs": [],
   "source": [
    "def L1error(new, old):\n",
    "    error = numpy.sum(numpy.abs(new-old))\n",
    "    return error"
   ]
  },
  {
   "cell_type": "markdown",
   "metadata": {},
   "source": [
    "\n",
    "\n",
    "\n",
    "\n",
    "\n",
    "\n",
    "\n",
    "\n",
    "Nous commençons notre problème à partir de l'équation de Navier-Stokes pour un fluide incompressible.\n",
    "\n",
    "\\begin{equation}\n",
    "\\frac{\\partial u}{\\partial t} + u \\cdot \\nabla u = -\\frac{1}{\\rho}\\nabla p + \\nu\\nabla^2 u\n",
    "\\end{equation}\n",
    "\n",
    "En approximant que le nombre de Reynolds est proche de 0, nous obtenons l'équation suivante :\n",
    "\n",
    "\\begin{equation}\n",
    "0 = - \\nabla p + \\nabla^2 u\n",
    "\\end{equation}\n",
    "\n",
    "En utilisant le rotationel nous avons alors :\n",
    "\n",
    "\\begin{equation}\n",
    "\\nabla \\times - \\nabla p = 0\n",
    "\\end{equation}\n",
    "\n",
    "On définit $\\nabla \\times u = \\omega$ la vorticité et on obtient alors l'équation :\n",
    "\n",
    "\\begin{equation}\n",
    "\\nabla ^2 \\omega = 0\n",
    "\\end{equation}\n",
    "\n",
    "Ainsi nous pouvons définir $\\psi$ ainsi :\n",
    "\n",
    "\\begin{equation}\n",
    "u = \\frac{\\partial \\psi}{\\partial y} \\text{   et   } v = - \\frac{\\partial \\psi}{\\partial x}\n",
    "\\end{equation}\n",
    "\n",
    "En deux dimensions, la vorticité peut être développée de la sorte :\n",
    "\n",
    "\\begin{equation}\n",
    "\\omega = \\frac{\\partial v}{\\partial x} - \\frac{\\partial u}{\\partial y}\n",
    "\\end{equation}\n",
    "\n",
    "Avec les relations ci-dessus, nous obtenons la relation et le système d'équation d'un fluide ayant un nombre de Reynolds très faible suivant :\n",
    "\n",
    "\\begin{equation}\n",
    "\\nabla^2 \\psi = -\\omega\n",
    "\\end{equation}  \n",
    "\n",
    "\\begin{equation}\n",
    "\\nabla^2 \\omega = 0\n",
    "\\end{equation}\n",
    "\n",
    "\\begin{equation}\n",
    "\\nabla^2 \\psi = -\\omega\n",
    "\\end{equation}"
   ]
  },
  {
   "cell_type": "markdown",
   "metadata": {},
   "source": [
    "Les conditions aux bords sont les suivantes :\n",
    "\n",
    "<img src=\"./figures/drivencavity.svg\" width=400px>\n",
    "\n",
    "Pour déterminer les valeurs aux bords de $\\omega$, il nous faut partir de la relation\n",
    "\n",
    "$$ \\nabla^2 \\psi = - \\omega$$\n",
    "\n",
    "le long du bord supérieur. Du fait de la solidité de la surface, il ne peut y avoir de vitesse selon l'axe y et ainsi la dérivée de $\\psi$ par rapport à x est nulle. Cela donne donc\n",
    "\n",
    "$$ \\frac{\\partial^2 \\psi}{\\partial y^2} = - \\omega$$\n",
    "\n",
    "Après une discrétisation centrale du second ordre \n",
    "\n",
    "\\begin{equation}\n",
    "\\omega_j = - \\left(\\frac{\\psi_{j+1} - 2\\psi_j + \\psi_{j-1}}{\\Delta y^2}\\right)\n",
    "\\end{equation}\n",
    "\n",
    "Pour avoir la valeur de $\\psi_{j+1}$ qui est hors du domaine, on discrétise $\\frac{\\partial \\psi}{\\partial y}$ au 3ème ordre\n",
    "\n",
    "\\begin{equation}\n",
    "\\left.\\frac{\\partial \\psi}{\\partial y}\\right|_j = \\frac{2\\psi_{j+1} + 3\\psi_j - 6\\psi_{j-1} + \\psi_{j-2}}{6 \\Delta y}\n",
    "\\end{equation}\n",
    "\n",
    "Nous savons que sur le bord supérieur $\\left.\\frac{\\partial \\psi}{\\partial y}\\right|_j = 1$. Ainsi, en isolant $\\psi_{j+1}$ et en l'injectant dans l'équation (13) nous pouvons obtenir la condition aux bords suivante\n",
    "\n",
    "\\begin{equation}\n",
    "\\omega_{i,j} = -\\frac{1}{2 \\Delta y^2} (8\\psi_{i, j-1} - \\psi_{i, j-2}) - \\frac{3}{\\Delta y} + \\mathcal{O}(\\Delta y^2)\n",
    "\\end{equation}\n",
    "\n",
    "Nous pouvons faire le même raisonnement pour le bord inférieur en n'oubliant pas que cette fois-ci $\\left.\\frac{\\partial \\psi}{\\partial y}\\right|_j = 0$. Donc\n",
    "\n",
    "\\begin{equation}\n",
    "\\omega_{i,j} = -\\frac{1}{2 \\Delta y^2} (8\\psi_{i, j+1} - \\psi_{i, j+2})  + \\mathcal{O}(\\Delta y^2)\n",
    "\\end{equation}\n",
    "\n",
    "Il ne manque plus qu'à faire les mêmes calculs pour les bords gauche et droit :\n",
    "\n",
    " \\begin{equation} \\omega_{i,j} = -\\frac{1}{2 \\Delta y^2} (8\\psi_{i-1, j} - \\psi_{i-2, j}) + \\mathcal{O}(\\Delta y^2)\n",
    "\\end{equation}\n",
    "\n",
    " \\begin{equation} \\omega_{i,j} = -\\frac{1}{2 \\Delta y^2} (8\\psi_{i+1, j} - \\psi_{i+2, j}) + \\mathcal{O}(\\Delta y^2)\n",
    "\\end{equation}"
   ]
  },
  {
   "cell_type": "markdown",
   "metadata": {},
   "source": [
    "On peut maintenant passer à la résolution numérique du problème. Pour cela, on résoud $\\psi$ et $\\omega$ simultanément grâce à la méthode de Jacobi. On demande de sortir de la boucle lorsque les différences entre 2 itérations sur $\\psi$ ET $\\omega$ sont suffisamment petites."
   ]
  },
  {
   "cell_type": "code",
   "execution_count": 6,
   "metadata": {
    "collapsed": false
   },
   "outputs": [],
   "source": [
    "def solution(psi, omega, dx, dy, error_tolerance):\n",
    "    \n",
    "        l1_norm_1 = 1\n",
    "        l1_norm_2 = 1\n",
    "        \n",
    "        while l1_norm_1 > error_tolerance or l1_norm_2 > error_tolerance:\n",
    "            \n",
    "            psik = psi.copy()\n",
    "            omegak = omega.copy()\n",
    "            \n",
    "            \n",
    "            psi [1:-1,1:-1] = 0.25 * (psik[1:-1,2:] + psik[1:-1,:-2] + psik[2:,1:-1] + psik[:-2,1:-1] + \\\n",
    "                                      dx**2*omegak[1:-1,1:-1])\n",
    "            psi[:,0] = 0\n",
    "            psi[:,-1] = 0\n",
    "            psi[0,:] = 0\n",
    "            psi[-1,:] = 0\n",
    "            \n",
    "            omega[1:-1,1:-1] = 0.25 * (omegak[1:-1,2:] + omegak[1:-1,:-2] + omegak[2:,1:-1] + omegak[:-2,1:-1])\n",
    "            \n",
    "            omega[:,-1] = -0.5 / dy**2 * (8 * psi[:,-2] - psi[:,-3]) - 3/dy\n",
    "            omega[:,0] = -0.5 / dy**2 * (8 * psi[:,1] - psi[:,2])\n",
    "            omega[-1,:] = -0.5 / dx**2 * (8 * psi[-2,:] - psi[-3,:])\n",
    "            omega[0,:] = -0.5 / dx**2 * (8 * psi[1,:] - psi[2,:])\n",
    "            \n",
    "            \n",
    "            \n",
    "            l1_norm_1 = L1error(psi,psik)\n",
    "            l1_norm_2 = L1error(omega,omegak)\n",
    "        return psi, omega, l1_norm_1, l1_norm_2"
   ]
  },
  {
   "cell_type": "markdown",
   "metadata": {},
   "source": [
    "Nous prenons comme condition initiale zéro partout pour les deux champs."
   ]
  },
  {
   "cell_type": "code",
   "execution_count": 28,
   "metadata": {
    "collapsed": false
   },
   "outputs": [
    {
     "name": "stdout",
     "output_type": "stream",
     "text": [
      "Les normes en L1 de la différences des deux dernières itérations pour psi et omega sont 2.24232959691e-08 et 9.99748365654e-07\n"
     ]
    }
   ],
   "source": [
    "psi = numpy.zeros((ny,nx))\n",
    "omega = numpy.zeros((ny,nx))\n",
    "\n",
    "x = numpy.linspace(0,1,nx)\n",
    "y = numpy.linspace(0,1,ny)\n",
    "\n",
    "psi, omega, l1_norm_1, l1_norm_2 = solution(psi.copy(), omega.copy(), dx, dy, error_tolerance)\n",
    "print(\"Les normes en L1 de la différences des deux dernières itérations pour psi et omega sont\",l1_norm_1,\"et\", l1_norm_2)"
   ]
  },
  {
   "cell_type": "markdown",
   "metadata": {},
   "source": [
    "Vous voyons effectivement que les erreurs L1 entre deux itérations successives pour $\\psi$ et $\\omega$ sont bien inférieures à notre tolérance qui était de 1e-6."
   ]
  },
  {
   "cell_type": "markdown",
   "metadata": {},
   "source": [
    "Afin d'afficher le graphique correctement nous inversons les données en x et en y"
   ]
  },
  {
   "cell_type": "code",
   "execution_count": 20,
   "metadata": {
    "collapsed": false
   },
   "outputs": [
    {
     "data": {
      "image/png": "[encoded data removed]",
      "text/plain": [
       "<matplotlib.figure.Figure at 0x7be38d0>"
      ]
     },
     "metadata": {},
     "output_type": "display_data"
    }
   ],
   "source": [
    "psid = psi.copy()\n",
    "for i in range (nx) :\n",
    "    for j in range (ny) :\n",
    "        psi [i,j] = psid [j,i]\n",
    "pyplot.figure(figsize=(10,9))\n",
    "pyplot.contourf(x,y,psi,cmap=cm.viridis)\n",
    "pyplot.colorbar();"
   ]
  },
  {
   "cell_type": "markdown",
   "metadata": {},
   "source": [
    "Nous scannons nos données de $\\psi$ et $\\omega$ afin de trouver le maximum de leurs valeurs ici en dessous.\n",
    "Ensuite nous affichons les 6 valeurs de $\\psi$ demandées ."
   ]
  },
  {
   "cell_type": "code",
   "execution_count": 27,
   "metadata": {
    "collapsed": false
   },
   "outputs": [
    {
     "name": "stdout",
     "output_type": "stream",
     "text": [
      "La valeur maximal de |psi| est 0.0998451724622\n",
      "La valeur maximal de |omega| est 78.1926612286\n"
     ]
    },
    {
     "data": {
      "text/plain": [
       "array([ 0.    , -0.0575, -0.0944, -0.0944, -0.0575,  0.    ])"
      ]
     },
     "execution_count": 27,
     "metadata": {},
     "output_type": "execute_result"
    }
   ],
   "source": [
    "max = 0\n",
    "for i in range(nx):\n",
    "    for j in range(ny) :\n",
    "        if numpy.abs(psi[i,j])>max :\n",
    "            max=numpy.abs(psi[i,j])\n",
    "print(\"La valeur maximal de |psi| est\", max)\n",
    "\n",
    "max = 0\n",
    "for i in range(nx):\n",
    "    for j in range(ny) :\n",
    "        if numpy.abs(omega[i,j])>max :\n",
    "            max=numpy.abs(omega[i,j])\n",
    "print(\"La valeur maximal de |omega| est\", max)\n",
    "\n",
    "numpy.round(psi[32,::8], 4)"
   ]
  },
  {
   "cell_type": "code",
   "execution_count": null,
   "metadata": {
    "collapsed": true
   },
   "outputs": [],
   "source": []
  }
 ],
 "metadata": {
  "kernelspec": {
   "display_name": "Python 3",
   "language": "python",
   "name": "python3"
  },
  "language_info": {
   "codemirror_mode": {
    "name": "ipython",
    "version": 3
   },
   "file_extension": ".py",
   "mimetype": "text/x-python",
   "name": "python",
   "nbconvert_exporter": "python",
   "pygments_lexer": "ipython3",
   "version": "3.4.4"
  }
 },
 "nbformat": 4,
 "nbformat_minor": 0
}
