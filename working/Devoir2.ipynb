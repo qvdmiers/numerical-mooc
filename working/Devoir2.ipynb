{
 "cells": [
  {
   "cell_type": "markdown",
   "metadata": {},
   "source": [
    "## Introduction"
   ]
  },
  {
   "cell_type": "markdown",
   "metadata": {},
   "source": [
    "Nous considérons ici un flux de voiture sur une autoroute à une bande. On aimerait connaitre la densité de voitures présentes sur cette autoroute ainsi que la vitesse du trafic. Une équation possible pour cette dernière est\n",
    "\n",
    "\\begin{equation} V = V_{max} (1 - \\frac{\\rho}{\\rho_{max}})\n",
    "\\end{equation}\n",
    "\n",
    "Si le flux $F$ est égal à \n",
    "\\begin{equation} F = V \\rho\n",
    "\\end{equation}\n",
    "alors, nous avons l'équation différentielle partielle suivante :\n",
    "\\begin{equation} \\frac{\\partial \\rho}{\\partial t} + \\frac{\\partial F}{\\partial x} = 0 \\end{equation}\n",
    "\n",
    "En dérivant $F$ par rapport à $x$, on obtient une équation ne dépendant que de $ \\rho $ :\n",
    "\n",
    "$$ \\frac{\\partial \\rho}{\\partial t} + V_{max}(1 - \\frac{2 \\rho}{\\rho_{max}}) \\frac{\\partial \\rho}{\\partial x} = 0\n",
    "$$"
   ]
  },
  {
   "cell_type": "markdown",
   "metadata": {},
   "source": [
    "On peut alors commencer à résoudre numériquement le problème.\n",
    "On débute par l'initialisation des constantes."
   ]
  },
  {
   "cell_type": "code",
   "execution_count": 98,
   "metadata": {
    "collapsed": true
   },
   "outputs": [],
   "source": [
    "import numpy                       \n",
    "from matplotlib import pyplot                 \n",
    "%matplotlib inline\n",
    "from matplotlib import rcParams"
   ]
  },
  {
   "cell_type": "code",
   "execution_count": 99,
   "metadata": {
    "collapsed": false
   },
   "outputs": [],
   "source": [
    "v_m=80\n",
    "L=11\n",
    "rho_m=250 #densité maximale"
   ]
  },
  {
   "cell_type": "markdown",
   "metadata": {},
   "source": [
    "Pour éviter de devoir calculer la vitesse $V$ à chaque fois, on définit ici une fonction vitesse."
   ]
  },
  {
   "cell_type": "code",
   "execution_count": 100,
   "metadata": {
    "collapsed": false
   },
   "outputs": [],
   "source": [
    "def V (rho0):\n",
    "    return numpy.array((v_m*(1-rho0/rho_m))/3.6)"
   ]
  },
  {
   "cell_type": "markdown",
   "metadata": {},
   "source": [
    "## Partie A"
   ]
  },
  {
   "cell_type": "markdown",
   "metadata": {},
   "source": [
    "Pour la partie A, on commence avec la fonction suivante (un signal carré) qui donne la densité suivante (voir graphique) : "
   ]
  },
  {
   "cell_type": "code",
   "execution_count": 101,
   "metadata": {
    "collapsed": false
   },
   "outputs": [
    {
     "data": {
      "image/png": "[encoded data removed]",
      "text/plain": [
       "<matplotlib.figure.Figure at 0x87377f0>"
      ]
     },
     "metadata": {},
     "output_type": "display_data"
    }
   ],
   "source": [
    "x = numpy.linspace(0,L,nx)\n",
    "rho0 = numpy.ones(nx)*10\n",
    "rho0[10:20] = 50\n",
    "pyplot.plot(x, rho0, color='#003366', ls='--', lw=3)\n",
    "pyplot.ylim(0,70);"
   ]
  },
  {
   "cell_type": "markdown",
   "metadata": {},
   "source": [
    "Pour calculer la vitesse minimale à l'instant $t = 0$, on introduit la fonction $\\rho_0$ dans notre fonction vitesse. Ensuite, on en prend le minimum grâce à la fonction min de numpy."
   ]
  },
  {
   "cell_type": "code",
   "execution_count": 102,
   "metadata": {
    "collapsed": false,
    "scrolled": true
   },
   "outputs": [
    {
     "name": "stdout",
     "output_type": "stream",
     "text": [
      "La vitesse minimale à t=0 est 17.7777777778 m/s\n"
     ]
    }
   ],
   "source": [
    "V(rho0)\n",
    "m = numpy.min (V(rho0))\n",
    "print(\"La vitesse minimale à t=0 est\",m,\"m/s\")"
   ]
  },
  {
   "cell_type": "markdown",
   "metadata": {},
   "source": [
    "Ensuite, on va calculer la densité pour $t=3$ minutes. Pour cela, on utilise l'approximation suivante : \n",
    "\n",
    "\\begin{equation} \\frac{\\partial \\rho}{\\partial x}\\approx \\frac{\\rho(x+\\Delta x)-\\rho(x)}{\\Delta x}\\end{equation}\n",
    "\n",
    "On va discrétiser notre temps et notre espace. On définit donc un pas $\\Delta t$ et $\\Delta x$ ainsi qu'un nombre d'itérations $nx$ et $nt$. Il ne faut pas que le pas $\\Delta x$ soit trop petit pour garder une certaine stabilité. \n"
   ]
  },
  {
   "cell_type": "code",
   "execution_count": 103,
   "metadata": {
    "collapsed": true
   },
   "outputs": [],
   "source": [
    "nx=51\n",
    "dt=0.001\n",
    "nt=100\n",
    "dx=L/(nx-1)"
   ]
  },
  {
   "cell_type": "markdown",
   "metadata": {},
   "source": [
    "Pour la discrétisation, on note la i-ème itération dans l'espace comme $\\rho_i$ et la n-ème itération dans le temps comme $\\rho^n$. Les deux notations combinées, on a $\\rho_i^n$.\n",
    "Avec notre nouvelle notation, les approximations des dérivées partielles deviennent :\n",
    "\n",
    "\\begin{equation}\\frac{\\partial \\rho}{\\partial x}\\approx \\frac{\\rho_i^n - \\rho_{i-1}^n}{\\Delta x} \\end{equation}\n",
    "\\begin{equation}\\frac{\\partial \\rho}{\\partial t}\\approx \\frac{\\rho_i^{n+1}-\\rho_i^n}{\\Delta t} \\end{equation}"
   ]
  },
  {
   "cell_type": "markdown",
   "metadata": {},
   "source": [
    "Lorsque l'on met cela dans notre équation aux dérivées partielles par rapport à $\\rho$, on obtient\n",
    "\n",
    "$$\\frac{\\rho_i^{n+1}-\\rho_i^n}{\\Delta t} + V_{max}(1 - \\frac{2 \\rho_i^n}{\\rho_{max}}) \\frac{\\rho_i^n - \\rho_{i-1}^n}{\\Delta x} = 0\n",
    "$$\n",
    "\n",
    "On remarque alors que la seule inconnue est $\\rho_i^{n+1}$. Lorsque l'on isole, on obtient :\n",
    "\n",
    "$$\\rho_i^{n+1} = \\rho_i^n - V_{max}(1 - \\frac{2 \\rho_i^n}{\\rho_{max}}) (\\rho_i^n - \\rho_{i-1}^n) \\frac{\\Delta t}{\\Delta x}$$"
   ]
  },
  {
   "cell_type": "markdown",
   "metadata": {},
   "source": [
    "On peut maintenant lancer l'itération. À chaque instant $t$, on calcul la densité $\\rho$ sur tout notre espace (ici de $0$ à $L$)"
   ]
  },
  {
   "cell_type": "code",
   "execution_count": 104,
   "metadata": {
    "collapsed": false
   },
   "outputs": [],
   "source": [
    "for n in range(1,50):  \n",
    "  un = rho0.copy() \n",
    "  for i in range(1,nx): \n",
    "    rho0[i] = un[i]-v_m*(1-2*un[i]/rho_m)*dt/dx*(un[i]-un[i-1])"
   ]
  },
  {
   "cell_type": "markdown",
   "metadata": {},
   "source": [
    "Nous possédons maintenant notre densité $\\rho$ à $t=3$ minutes. Voyons ce que cela donne en graphique"
   ]
  },
  {
   "cell_type": "code",
   "execution_count": 105,
   "metadata": {
    "collapsed": false
   },
   "outputs": [
    {
     "data": {
      "image/png": "[encoded data removed]",
      "text/plain": [
       "<matplotlib.figure.Figure at 0x15f9470>"
      ]
     },
     "metadata": {},
     "output_type": "display_data"
    }
   ],
   "source": [
    "pyplot.plot(x, rho0, color='#003366', ls='--', lw=3)\n",
    "pyplot.ylim(0,70);"
   ]
  },
  {
   "cell_type": "markdown",
   "metadata": {},
   "source": [
    "Nous pouvons à présent calculer la vitesse moyenne de notre trafic à cet instant précis. Pour cela, nous envoyons le tableau $\\rho$ dans notre fonction vitesse et nous en calculons la moyenne."
   ]
  },
  {
   "cell_type": "code",
   "execution_count": 106,
   "metadata": {
    "collapsed": false
   },
   "outputs": [
    {
     "name": "stdout",
     "output_type": "stream",
     "text": [
      "La vitesse moyenne à t=3 min est 20.5626526038 m/s\n"
     ]
    }
   ],
   "source": [
    "V(rho0)\n",
    "m=numpy.average(V(rho0))\n",
    "print(\"La vitesse moyenne à t=3 min est\",m,\"m/s\")"
   ]
  },
  {
   "cell_type": "markdown",
   "metadata": {},
   "source": [
    "Nous allons maintenant calculer la densité en $t=6$ min. Comme notre tableau de densité du trafic a été modifié, nous le réinitialisons en $t=0$."
   ]
  },
  {
   "cell_type": "code",
   "execution_count": 107,
   "metadata": {
    "collapsed": true
   },
   "outputs": [],
   "source": [
    "x = numpy.linspace(0,L,nx)\n",
    "rho0 = numpy.ones(nx)*10\n",
    "rho0[10:20] = 50"
   ]
  },
  {
   "cell_type": "markdown",
   "metadata": {},
   "source": [
    "Nous pouvons maintenant calculer $\\rho$ après 6 minutes et voir à quoi notre densité ressemble."
   ]
  },
  {
   "cell_type": "code",
   "execution_count": 108,
   "metadata": {
    "collapsed": true
   },
   "outputs": [],
   "source": [
    "for n in range(1,nt):  \n",
    "  un = rho0.copy() \n",
    "  for i in range(1,nx): \n",
    "    rho0[i] = un[i]-v_m*(1-2*un[i]/rho_m)*dt/dx*(un[i]-un[i-1])"
   ]
  },
  {
   "cell_type": "code",
   "execution_count": 110,
   "metadata": {
    "collapsed": false
   },
   "outputs": [
    {
     "data": {
      "image/png": "[encoded data removed]",
      "text/plain": [
       "<matplotlib.figure.Figure at 0x870da90>"
      ]
     },
     "metadata": {},
     "output_type": "display_data"
    }
   ],
   "source": [
    "pyplot.plot(x, rho0, color='#003366', ls='--', lw=3)\n",
    "pyplot.ylim(0,70);"
   ]
  },
  {
   "cell_type": "markdown",
   "metadata": {},
   "source": [
    "Comme précédemment, nous calculons la vitesse minimale."
   ]
  },
  {
   "cell_type": "code",
   "execution_count": 88,
   "metadata": {
    "collapsed": false
   },
   "outputs": [
    {
     "name": "stdout",
     "output_type": "stream",
     "text": [
      "La vitesse minimale à t=6 min est 18.5661281915 m/s\n"
     ]
    }
   ],
   "source": [
    "V(rho0)\n",
    "m = numpy.min (V(rho0))\n",
    "print(\"La vitesse minimale à t=6 min est\",m,\"m/s\")"
   ]
  },
  {
   "cell_type": "markdown",
   "metadata": {},
   "source": [
    "## Partie B"
   ]
  },
  {
   "cell_type": "markdown",
   "metadata": {},
   "source": [
    "Pour la partie B, la vitesse maximale est augmentée ainsi que la densité de voitures. On utilise les  mêmes méthodes que pour la partie A."
   ]
  },
  {
   "cell_type": "code",
   "execution_count": 89,
   "metadata": {
    "collapsed": true
   },
   "outputs": [],
   "source": [
    "v_m=136 #nouvelle vitesse maximale"
   ]
  },
  {
   "cell_type": "code",
   "execution_count": 90,
   "metadata": {
    "collapsed": true
   },
   "outputs": [],
   "source": [
    "x = numpy.linspace(0,L,nx)\n",
    "rho0 = numpy.ones(nx)*20\n",
    "rho0[10:20] = 50"
   ]
  },
  {
   "cell_type": "code",
   "execution_count": 91,
   "metadata": {
    "collapsed": false,
    "scrolled": true
   },
   "outputs": [
    {
     "data": {
      "image/png": "[encoded data removed]",
      "text/plain": [
       "<matplotlib.figure.Figure at 0x15a02b0>"
      ]
     },
     "metadata": {},
     "output_type": "display_data"
    }
   ],
   "source": [
    "pyplot.plot(x, rho0, color='#003366', ls='--', lw=3)\n",
    "pyplot.ylim(0,70);"
   ]
  },
  {
   "cell_type": "code",
   "execution_count": 92,
   "metadata": {
    "collapsed": false
   },
   "outputs": [
    {
     "name": "stdout",
     "output_type": "stream",
     "text": [
      "La vitesse minimale à t=0 est 30.2222222222 m/s\n"
     ]
    }
   ],
   "source": [
    "V(rho0)\n",
    "m = numpy.min (V(rho0))\n",
    "print(\"La vitesse minimale à t=0 est\",m,\"m/s\")"
   ]
  },
  {
   "cell_type": "code",
   "execution_count": 93,
   "metadata": {
    "collapsed": true
   },
   "outputs": [],
   "source": [
    "for n in range(1,50):  \n",
    "  un = rho0.copy() \n",
    "  for i in range(1,nx): \n",
    "    rho0[i] = un[i]-v_m*(1-2*un[i]/rho_m)*dt/dx*(un[i]-un[i-1])"
   ]
  },
  {
   "cell_type": "code",
   "execution_count": 94,
   "metadata": {
    "collapsed": false
   },
   "outputs": [
    {
     "data": {
      "image/png": "[encoded data removed]",
      "text/plain": [
       "<matplotlib.figure.Figure at 0x1509eb8>"
      ]
     },
     "metadata": {},
     "output_type": "display_data"
    }
   ],
   "source": [
    "pyplot.plot(x, rho0, color='#003366', ls='--', lw=3)\n",
    "pyplot.ylim(0,70);"
   ]
  },
  {
   "cell_type": "code",
   "execution_count": 95,
   "metadata": {
    "collapsed": false
   },
   "outputs": [
    {
     "name": "stdout",
     "output_type": "stream",
     "text": [
      "La vitesse moyenne à t=3 min est 33.7641357386 m/s\n"
     ]
    }
   ],
   "source": [
    "V(rho0)\n",
    "m = numpy.average(V(rho0))\n",
    "print(\"La vitesse moyenne à t=3 min est\",m,\"m/s\")"
   ]
  },
  {
   "cell_type": "code",
   "execution_count": 97,
   "metadata": {
    "collapsed": false
   },
   "outputs": [
    {
     "name": "stdout",
     "output_type": "stream",
     "text": [
      "La vitesse minimale à t=3 min est 30.7847240487 m/s\n"
     ]
    }
   ],
   "source": [
    "m =numpy.min(V(rho0))\n",
    "print(\"La vitesse minimale à t=3 min est\",m,\"m/s\")"
   ]
  },
  {
   "cell_type": "markdown",
   "metadata": {},
   "source": [
    "## Conclusion"
   ]
  },
  {
   "cell_type": "markdown",
   "metadata": {},
   "source": [
    "On remarque que bien que l'on commence avec un signal carré, après un certain nombre d'itérations, ce signal se courbe. Cela est du au fait que nous avons approximé une équation continue par une equation discrétisée.\n",
    "De plus, la courbe est assymétrique car notre équation est non-linéaire."
   ]
  }
 ],
 "metadata": {
  "kernelspec": {
   "display_name": "Python 3",
   "language": "python",
   "name": "python3"
  },
  "language_info": {
   "codemirror_mode": {
    "name": "ipython",
    "version": 3
   },
   "file_extension": ".py",
   "mimetype": "text/x-python",
   "name": "python",
   "nbconvert_exporter": "python",
   "pygments_lexer": "ipython3",
   "version": "3.4.3"
  }
 },
 "nbformat": 4,
 "nbformat_minor": 0
}
