{
 "cells": [
  {
   "cell_type": "markdown",
   "metadata": {},
   "source": [
    "# Le \"Shock Tube\" de Sods"
   ]
  },
  {
   "cell_type": "markdown",
   "metadata": {},
   "source": [
    "Nous allons résoudre le \"Shock Tude\" de Sods. Le tube est long de 20cm. Au milieu, en x = 0, il y a un diaphragme rigide infinitisément fin séparant le tube en 2. De part et d'autre se trouve deux gaz à différente pression et densité. Ces gaz sont initialement à une vitesse nulle. A gauche, le gaz a une densité de 1 kg/m³ et une pression de 100kN/m². A droite, la densité est de 0.125 kg/m³ et la pression est de 10 kN/m²."
   ]
  },
  {
   "cell_type": "markdown",
   "metadata": {},
   "source": [
    "L'équation à résoudre est la suivante :\n",
    "\\begin{equation}\n",
    "\\frac{\\partial}{\\partial t}\n",
    "\\left[ \\begin{array}{c}\n",
    "\\rho \\\\\n",
    "\\rho u \\\\\n",
    "\\rho e_T \\\\ \n",
    "\\end{array} \\right]\n",
    "+ \\frac{\\partial}{\\partial x}\n",
    "\\left[ \\begin{array}{c}\n",
    "\\rho u \\\\\n",
    "\\rho u^2 + p \\\\\n",
    "(\\rho e_T + p) u\\\\ \\end{array}\n",
    "\\right]\n",
    "=0\n",
    "\\end{equation}\n",
    "\n",
    "Le premier vecteur est u et le second est f."
   ]
  },
  {
   "cell_type": "markdown",
   "metadata": {},
   "source": [
    "Les conditions initiales peuvent être réécrites plus clairement comme :\n",
    "\n",
    "$$\\underline{IC}_L = \\left[ \\begin{array}{c}\n",
    "\\rho_L \\\\ u_L \\\\ p_L \\\\ \\end{array}\\right] = \n",
    "\\left[ \\begin{array}{c}\n",
    "1\\ kg/m^3 \\\\ 0\\ m/s \\\\ 100\\ kN/m^2 \\\\ \\end{array}\\right]$$\n",
    "\n",
    "$$\\underline{IC}_R = \\left[ \\begin{array}{c}\n",
    "\\rho_R \\\\ u_R \\\\ p_R \\\\ \\end{array}\\right] = \n",
    "\\left[ \\begin{array}{c}\n",
    "0.125\\ kg/m^3 \\\\ 0\\ m/s \\\\ 10\\ kN/m^2 \\\\ \\end{array}\\right]$$\n"
   ]
  },
  {
   "cell_type": "markdown",
   "metadata": {},
   "source": [
    "On commence comme d'habitude par importer la bibliothèque numpy."
   ]
  },
  {
   "cell_type": "code",
   "execution_count": 1,
   "metadata": {
    "collapsed": false
   },
   "outputs": [],
   "source": [
    "%matplotlib inline\n",
    "import numpy\n",
    "from matplotlib import pyplot"
   ]
  },
  {
   "cell_type": "markdown",
   "metadata": {},
   "source": [
    "Nous introduisons ici nous conditions initiales, les pas et leur nombre respectif."
   ]
  },
  {
   "cell_type": "code",
   "execution_count": 2,
   "metadata": {
    "collapsed": false
   },
   "outputs": [],
   "source": [
    "nx = 81\n",
    "dx = .25\n",
    "dt = .0002   \n",
    "gamma = 1.4\n",
    "nt=0.01/dt\n",
    "rhol=1\n",
    "ul=0\n",
    "pl=100000\n",
    "rhor=0.125\n",
    "ur=0\n",
    "pr=10000"
   ]
  },
  {
   "cell_type": "markdown",
   "metadata": {},
   "source": [
    "On définit ensuite la fonction t(u). Cette fonction permettra de calculer le vecteur f à partir du vecteur u. Comme ce caclcul apparait souvent, cela rendra le code plus lisible."
   ]
  },
  {
   "cell_type": "code",
   "execution_count": 3,
   "metadata": {
    "collapsed": false
   },
   "outputs": [],
   "source": [
    "def t(u):\n",
    "    return numpy.array([u[1], u[1]**2/u[0]+(gamma-1)*(u[2]-u[1]**2/(2*u[0])),\\\n",
    "                                                          (u[2]+(gamma-1)*(u[2]-u[1]**2/(2*u[0])))*u[1]/u[0]])"
   ]
  },
  {
   "cell_type": "markdown",
   "metadata": {},
   "source": [
    "Si l'on pose :\n",
    "\n",
    "$$\\underline{\\mathbf{u}} = \n",
    "\\left[ \\begin{array}{c}\n",
    "u_1 \\\\\n",
    "u_2 \\\\\n",
    "u_3 \\\\ \n",
    "\\end{array} \\right] =\n",
    "\\left[ \\begin{array}{c}\n",
    "\\rho \\\\\n",
    "\\rho u \\\\\n",
    "\\rho e_T \\\\ \n",
    "\\end{array} \\right]$$\n",
    "\n",
    "On peut réécrire f sous la forme suivante, ce qui permettra de le calculer à partir de n'importe quel vecteur u.\n",
    "\n",
    "$$\\underline{\\mathbf{f}} = \\left[ \\begin{array}{c}\n",
    "f_1 \\\\\n",
    "f_2 \\\\\n",
    "f_3 \\\\ \\end{array} \\right] =\n",
    "\\left[ \\begin{array}{c}\n",
    "u_2\\\\\n",
    "\\frac{u^2_2}{u_1} + (\\gamma -1)\\left(u_3 - \\frac{1}{2} \\frac{u^2_2}{u_1} \\right) \\\\\n",
    "\\left(u_3 + (\\gamma -1)\\left(u_3 - \\frac{1}{2} \\frac{u^2_2}{u_1}\\right) \\right) \\frac{u_2}{u_1}\\\\ \\end{array}\n",
    "\\right]$$"
   ]
  },
  {
   "cell_type": "markdown",
   "metadata": {},
   "source": [
    "Pour calculer f, comme la fonction t reçoit un vecteur et pas un tableau, nous avons défini juste avant un vecteur ui qui reçoit une ligne du tableau u afin d'envoyer ce dernier dans la fonction t et avoir la ligne du tableau f correspondant."
   ]
  },
  {
   "cell_type": "code",
   "execution_count": 4,
   "metadata": {
    "collapsed": true
   },
   "outputs": [],
   "source": [
    "x = numpy.linspace(-10,10,nx)\n",
    "\n",
    "gauche = numpy.where(x<0)\n",
    "droite = numpy.where(x>=0)\n",
    "s=numpy.empty((nx,3))\n",
    "s[gauche] = numpy.array([rhol, ul, pl])\n",
    "s[droite] = numpy.array([rhor, ur, pr])\n",
    "\n",
    "u=numpy.empty((nx,3))\n",
    "for i in range (nx):\n",
    "    u[i]=numpy.array([s[i,0], s[i,0]*s[i,1], s[i,2]/(gamma-1)+(s[i,0]*s[i,1]**2)/2])\n",
    "\n",
    "f=numpy.empty((nx,3))\n",
    "for i in range (nx):\n",
    "    ui=u[i,:]\n",
    "    f[i]= t(ui)"
   ]
  },
  {
   "cell_type": "markdown",
   "metadata": {},
   "source": [
    "Ici, nous avons employé la méthode de Richtmyer afin de déterminer l'évolution du système après 0.001s. Sa méthode est la suivante :\n",
    "\n",
    "\\begin{align}\n",
    "\\underline{\\mathbf{u}}^{n+\\frac{1}{2}}_{i+\\frac{1}{2}} &= \\frac{1}{2} \\left( \\underline{\\mathbf{u}}^n_{i+1} + \\underline{\\mathbf{u}}^n_i \\right) - \n",
    "\\frac{\\Delta t}{2 \\Delta x} \\left( \\underline{\\mathbf{f}}^n_{i+1} - \\underline{\\mathbf{f}}^n_i\\right) \\\\\n",
    "\\underline{\\mathbf{u}}^{n+1}_i &= \\underline{\\mathbf{u}}^n_i - \\frac{\\Delta t}{\\Delta x} \\left(\\underline{\\mathbf{f}}^{n+\\frac{1}{2}}_{i+\\frac{1}{2}} - \\underline{\\mathbf{f}}^{n+\\frac{1}{2}}_{i-\\frac{1}{2}} \\right)\n",
    "\\end{align}"
   ]
  },
  {
   "cell_type": "code",
   "execution_count": 5,
   "metadata": {
    "collapsed": false
   },
   "outputs": [],
   "source": [
    "for n in range(1,51):  \n",
    "    un = u.copy()\n",
    "    fn = f.copy()\n",
    "    for i in range(1,nx-1):\n",
    "        v = 1/2*(un[i+1]+un[i]) - dt/(2*dx)*(fn[i+1]-fn[i])\n",
    "        w = 1/2*(un[i]+un[i-1]) - dt/(2*dx)*(fn[i]-fn[i-1])\n",
    "        u[i] = un[i] - dt/dx*(t(v)-t(w))\n",
    "        for i in range (nx):\n",
    "            ui=u[i,:]\n",
    "            f[i]= t(ui)"
   ]
  },
  {
   "cell_type": "markdown",
   "metadata": {},
   "source": [
    "Ici, après avoir calculé u à 0.01s, nous pouvons maintenant retrouver à l'aide de celui-ci les trois données qui nous sont demandées et nous les introduisont dans le tableau solution s. Nous faisons ici le chemin inverse du début où nous avons construit u à partir de s."
   ]
  },
  {
   "cell_type": "code",
   "execution_count": 6,
   "metadata": {
    "collapsed": true
   },
   "outputs": [],
   "source": [
    "for i in range (nx):\n",
    "            s[i,:]=numpy.array([u[i,0], u[i,1]/u[i,0], (gamma-1)*(u[i,2]- u[i,1]**2/(2*u[i,0]))])"
   ]
  },
  {
   "cell_type": "markdown",
   "metadata": {},
   "source": [
    "La solution à x = 2.5 m est la suivante :"
   ]
  },
  {
   "cell_type": "code",
   "execution_count": 7,
   "metadata": {
    "collapsed": false
   },
   "outputs": [
    {
     "name": "stdout",
     "output_type": "stream",
     "text": [
      "La densité est de 0.374691402648 kg/m³\n",
      "La vitesse est de 292.611471527 m/s\n",
      "La pression est de 30250.8901676 N/m²\n"
     ]
    }
   ],
   "source": [
    "print (\"La densité est de\",s[50,0],\"kg/m³\")\n",
    "print (\"La vitesse est de\",s[50,1],\"m/s\")\n",
    "print (\"La pression est de\",s[50,2],\"N/m²\")"
   ]
  },
  {
   "cell_type": "markdown",
   "metadata": {},
   "source": [
    "Il nous reste à afficher les graphiques de la solution après t = 0.01 s tout le long du tube."
   ]
  },
  {
   "cell_type": "code",
   "execution_count": 8,
   "metadata": {
    "collapsed": false
   },
   "outputs": [],
   "source": [
    "def graph(y):\n",
    "    pyplot.figure(figsize=(5,5))\n",
    "    pyplot.grid(True)\n",
    "    pyplot.plot(x,y)"
   ]
  },
  {
   "cell_type": "code",
   "execution_count": 9,
   "metadata": {
    "collapsed": false
   },
   "outputs": [
    {
     "data": {
      "image/png": "[encoded data removed]",
      "text/plain": [
       "<matplotlib.figure.Figure at 0x7f71f40b14e0>"
      ]
     },
     "metadata": {},
     "output_type": "display_data"
    },
    {
     "data": {
      "image/png": "[encoded data removed]",
      "text/plain": [
       "<matplotlib.figure.Figure at 0x7f71f40b1550>"
      ]
     },
     "metadata": {},
     "output_type": "display_data"
    },
    {
     "data": {
      "image/png": "[encoded data removed]",
      "text/plain": [
       "<matplotlib.figure.Figure at 0x7f71dddf3940>"
      ]
     },
     "metadata": {},
     "output_type": "display_data"
    }
   ],
   "source": [
    "graph(s[:,0])\n",
    "graph(s[:,1])\n",
    "graph(s[:,2])"
   ]
  },
  {
   "cell_type": "markdown",
   "metadata": {},
   "source": [
    "Nous remarquons des pics au niveau des extrémités. Ces pics sont indissociables à une résolution numérique d'une séquation comme expliquer dans les Notebooks."
   ]
  },
  {
   "cell_type": "markdown",
   "metadata": {},
   "source": [
    "Enfin, nous vérifions que la condition CFL soit bien respectée. Pour cela, nous devons définir le vecteur $\\underline{\\mathbf{c}}$ comme suit :\n",
    "\n",
    "\\begin{equation} \n",
    "\\underline{\\mathbf{c}} = \\frac{\\partial \\underline{\\mathbf{f}}}{\\partial \\underline{\\mathbf{u}}}\n",
    "\\end{equation}\n",
    "\n",
    "Ce qui nous donne :\n",
    "\n",
    "$$\\underline{\\mathbf{c}} = \\left[ \\begin{array}{c}\n",
    "\\ 0 \\\\ 2 \\frac{u_2}{u_1}+(1 - \\gamma)\\frac{u_2}{u_1}  \\\\ \\gamma \\frac{u_2}{u_1} \\\\ \\end{array}\\right] $$\n",
    "\n",
    "La condition CFL impose que :\n",
    "\n",
    "$$\\underline{\\mathbf{c}} \\frac{dt}{dx} < \\underline{\\mathbf{1}}$$ "
   ]
  },
  {
   "cell_type": "code",
   "execution_count": 10,
   "metadata": {
    "collapsed": false
   },
   "outputs": [
    {
     "data": {
      "text/plain": [
       "array([ 0.        ,  0.51711507,  0.45247569])"
      ]
     },
     "execution_count": 10,
     "metadata": {},
     "output_type": "execute_result"
    }
   ],
   "source": [
    "c=numpy.empty(3)\n",
    "c=numpy.array([0,max((2*u[:,1]/u[:,0])+(1-gamma)*u[:,1]/u[:,0]),max((u[:,1]/u[:,0])*gamma)])\n",
    "c*dt/dx"
   ]
  },
  {
   "cell_type": "markdown",
   "metadata": {},
   "source": [
    "La condition de stabilité est donc bel et bien respectée."
   ]
  }
 ],
 "metadata": {
  "kernelspec": {
   "display_name": "Python 3",
   "language": "python",
   "name": "python3"
  },
  "language_info": {
   "codemirror_mode": {
    "name": "ipython",
    "version": 3
   },
   "file_extension": ".py",
   "mimetype": "text/x-python",
   "name": "python",
   "nbconvert_exporter": "python",
   "pygments_lexer": "ipython3",
   "version": "3.4.3"
  }
 },
 "nbformat": 4,
 "nbformat_minor": 0
}
